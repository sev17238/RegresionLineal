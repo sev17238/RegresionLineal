{
 "cells": [
  {
   "cell_type": "markdown",
   "metadata": {},
   "source": [
    "# tests"
   ]
  },
  {
   "cell_type": "code",
   "execution_count": 2,
   "metadata": {},
   "outputs": [
    {
     "name": "stdout",
     "output_type": "stream",
     "text": [
      "('THETA:', array([[ 0.23390539],\n",
      "       [ 2.2347024 ],\n",
      "       [35.60104808]]))\n"
     ]
    }
   ],
   "source": [
    "import numpy as np\n",
    "from matplotlib import pyplot as plt\n",
    "#import matplotlib.pyplot as plt\n",
    "\n",
    "#####DATASETS\n",
    "TRAINING_ELEMENTS = 200\n",
    "x = np.linspace(\n",
    "    -10,\n",
    "    30,\n",
    "    TRAINING_ELEMENTS\n",
    ")\n",
    "\n",
    "X = np.vstack(\n",
    "    (\n",
    "        np.ones(TRAINING_ELEMENTS),\n",
    "        x,\n",
    "        x ** 2,\n",
    "\n",
    "    )\n",
    ").T\n",
    "\n",
    "# y = x ** 3 + 50 - 100 * np.random.rand(TRAINING_ELEMENTS)\n",
    "y = 5 + 2 * x ** 3 + np.random.randint(-15, 15, TRAINING_ELEMENTS)\n",
    "dataset_1 = (X, y.reshape(TRAINING_ELEMENTS, 1))\n",
    "############\n",
    "\n",
    "###########GRADIENT DESCENT\n",
    "def gradient_descent(\n",
    "        X,\n",
    "        y,\n",
    "        theta_0,\n",
    "        cost,\n",
    "        cost_derivate,\n",
    "        alpha=0.01,\n",
    "        treshold=0.0001,\n",
    "        max_iter=10000):\n",
    "    theta, i = theta_0, 0\n",
    "    costs = []\n",
    "    gradient_norms = []\n",
    "    while np.linalg.norm(cost_derivate(X, y, theta)) > treshold and i < max_iter:\n",
    "        theta -= alpha * cost_derivate(X, y, theta)\n",
    "        i += 1\n",
    "        costs.append(cost(X, y, theta))\n",
    "        gradient_norms.append(cost_derivate(X, y, theta))\n",
    "    return theta, costs, gradient_norms\n",
    "##########################\n",
    "\n",
    "##############LINEAR COST\n",
    "def linear_cost(X, y, theta):\n",
    "    m, _ = X.shape\n",
    "    h = np.matmul(X, theta)\n",
    "    sq = (y - h) ** 2\n",
    "    return sq.sum() / (2 * m)\n",
    "#########################3\n",
    "\n",
    "\n",
    "#########LINEAR COST DERIVATE\n",
    "def linear_cost_derivate(X, y, theta):\n",
    "    h = np.matmul(X, theta)\n",
    "    m, _ = X.shape\n",
    "    return np.matmul((h - y).T, X).T / m\n",
    "###########################\n",
    "\n",
    "###############################################\n",
    "# Training data\n",
    "(X, y) = dataset_1\n",
    "m, n = X.shape\n",
    "\n",
    "theta_0 = np.random.rand(n, 1)\n",
    "theta, costs, gradient_norms = gradient_descent(\n",
    "    X,\n",
    "    y,\n",
    "    theta_0,\n",
    "    linear_cost,\n",
    "    linear_cost_derivate,\n",
    "    alpha=0.000000001,\n",
    "    treshold=0.001,\n",
    "    max_iter=10000\n",
    ")\n",
    "\n",
    "print ('THETA:', theta)\n"
   ]
  },
  {
   "cell_type": "code",
   "execution_count": 9,
   "metadata": {},
   "outputs": [
    {
     "data": {
      "text/plain": [
       "<matplotlib.collections.PathCollection at 0x99da390>"
      ]
     },
     "execution_count": 9,
     "metadata": {},
     "output_type": "execute_result"
    },
    {
     "data": {
      "image/png": "[encoded data removed]",
      "text/plain": [
       "<Figure size 432x288 with 1 Axes>"
      ]
     },
     "metadata": {
      "needs_background": "light"
     },
     "output_type": "display_data"
    }
   ],
   "source": [
    "# Plot training data\n",
    "plt.scatter(X[:, 1], y)\n"
   ]
  },
  {
   "cell_type": "code",
   "execution_count": 10,
   "metadata": {},
   "outputs": [
    {
     "data": {
      "text/plain": [
       "[<matplotlib.lines.Line2D at 0x98e3bf0>]"
      ]
     },
     "execution_count": 10,
     "metadata": {},
     "output_type": "execute_result"
    },
    {
     "data": {
      "image/png": "[encoded data removed]",
      "text/plain": [
       "<Figure size 432x288 with 1 Axes>"
      ]
     },
     "metadata": {
      "needs_background": "light"
     },
     "output_type": "display_data"
    }
   ],
   "source": [
    "plt.plot(X[:, 1], np.matmul(X, theta), color='red')\n"
   ]
  },
  {
   "cell_type": "code",
   "execution_count": 11,
   "metadata": {},
   "outputs": [
    {
     "data": {
      "image/png": "[encoded data removed]",
      "text/plain": [
       "<Figure size 432x288 with 1 Axes>"
      ]
     },
     "metadata": {
      "needs_background": "light"
     },
     "output_type": "display_data"
    }
   ],
   "source": [
    "# plt.plot(np.arange(len(costs)), costs)\n",
    "# Plot training data\n",
    "plt.plot(X[:, 1], np.matmul(X, theta), color='red')\n",
    "plt.scatter(X[:, 1], y)\n",
    "\n",
    "plt.show()"
   ]
  },
  {
   "cell_type": "code",
   "execution_count": null,
   "metadata": {},
   "outputs": [],
   "source": []
  },
  {
   "cell_type": "code",
   "execution_count": null,
   "metadata": {},
   "outputs": [],
   "source": []
  }
 ],
 "metadata": {
  "kernelspec": {
   "display_name": "Python 2",
   "language": "python",
   "name": "python2"
  },
  "language_info": {
   "codemirror_mode": {
    "name": "ipython",
    "version": 2
   },
   "file_extension": ".py",
   "mimetype": "text/x-python",
   "name": "python",
   "nbconvert_exporter": "python",
   "pygments_lexer": "ipython2",
   "version": "2.7.13"
  }
 },
 "nbformat": 4,
 "nbformat_minor": 2
}
